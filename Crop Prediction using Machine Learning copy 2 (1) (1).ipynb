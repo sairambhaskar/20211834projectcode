{
 "cells": [
  {
   "cell_type": "code",
   "execution_count": 7,
   "metadata": {},
   "outputs": [],
   "source": [
    "#Importing the libraries  \n",
    "import numpy as nm  \n",
    "import matplotlib.pyplot as mtp  \n",
    "import pandas as pd  \n",
    "from sklearn.model_selection import train_test_split \n",
    "from sklearn.preprocessing import StandardScaler\n",
    "from sklearn.naive_bayes import GaussianNB "
   ]
  },
  {
   "cell_type": "code",
   "execution_count": 8,
   "metadata": {},
   "outputs": [
    {
     "name": "stdout",
     "output_type": "stream",
     "text": [
      "31\n"
     ]
    }
   ],
   "source": [
    "dataset = pd.read_csv('Dataset.csv')  \n",
    "x = dataset.iloc[:, [0, 3]].values \n",
    "TempData = dataset['label'].tolist()\n",
    "LabelData = []\n",
    "for i in TempData:\n",
    "    if i not in LabelData:\n",
    "        LabelData.append(i)\n",
    "print(len(LabelData))        \n",
    "y = []\n",
    "for i in TempData:\n",
    "    if i == LabelData[0]:\n",
    "        y.append(0)\n",
    "    elif i == LabelData[1]:\n",
    "        y.append(1)\n",
    "    elif i == LabelData[2]:\n",
    "        y.append(2)\n",
    "    elif i == LabelData[3]:\n",
    "        y.append(3)\n",
    "    elif i == LabelData[4]:\n",
    "        y.append(4)\n",
    "    elif i == LabelData[5]:\n",
    "        y.append(5)\n",
    "    elif i == LabelData[6]:\n",
    "        y.append(6)\n",
    "    elif i == LabelData[7]:\n",
    "        y.append(7)\n",
    "    elif i == LabelData[8]:\n",
    "        y.append(8)\n",
    "    elif i == LabelData[9]:\n",
    "        y.append(9)\n",
    "    elif i == LabelData[10]:\n",
    "        y.append(10)\n",
    "    elif i == LabelData[11]:\n",
    "        y.append(11)\n",
    "    elif i == LabelData[12]:\n",
    "        y.append(12)\n",
    "    elif i == LabelData[13]:\n",
    "        y.append(13)\n",
    "    elif i == LabelData[14]:\n",
    "        y.append(14)\n",
    "    elif i == LabelData[15]:\n",
    "        y.append(15)\n",
    "    elif i == LabelData[16]:\n",
    "        y.append(16)\n",
    "    elif i == LabelData[17]:\n",
    "        y.append(17)\n",
    "    elif i == LabelData[18]:\n",
    "        y.append(18)\n",
    "    elif i == LabelData[19]:\n",
    "        y.append(19)\n",
    "    elif i == LabelData[20]:\n",
    "        y.append(20)\n",
    "    elif i == LabelData[21]:\n",
    "        y.append(21)\n",
    "    elif i == LabelData[22]:\n",
    "        y.append(22)\n",
    "    elif i == LabelData[23]:\n",
    "        y.append(23)\n",
    "    elif i == LabelData[24]:\n",
    "        y.append(24)\n",
    "    elif i == LabelData[25]:\n",
    "        y.append(25)\n",
    "    elif i == LabelData[26]:\n",
    "        y.append(26)\n",
    "    elif i == LabelData[27]:\n",
    "        y.append(27)\n",
    "    elif i == LabelData[28]:\n",
    "        y.append(28)\n",
    "    elif i == LabelData[29]:\n",
    "        y.append(29)\n",
    "    else:\n",
    "        y.append(30)"
   ]
  },
  {
   "cell_type": "code",
   "execution_count": 9,
   "metadata": {},
   "outputs": [],
   "source": [
    "x_train, x_test, y_train, y_test = train_test_split(x, y, test_size = 0.25, random_state = 0)  \n",
    "# Feature Scaling   \n",
    "sc = StandardScaler()  \n",
    "x_train = sc.fit_transform(x_train)  \n",
    "x_test = sc.transform(x_test)  "
   ]
  },
  {
   "cell_type": "code",
   "execution_count": 10,
   "metadata": {},
   "outputs": [
    {
     "data": {
      "text/plain": [
       "GaussianNB()"
      ]
     },
     "execution_count": 10,
     "metadata": {},
     "output_type": "execute_result"
    }
   ],
   "source": [
    "# Fitting Naive Bayes to the Training set   \n",
    "classifier = GaussianNB()  \n",
    "classifier.fit(x_train, y_train)  "
   ]
  },
  {
   "cell_type": "code",
   "execution_count": 11,
   "metadata": {},
   "outputs": [
    {
     "name": "stdout",
     "output_type": "stream",
     "text": [
      "Predicted Crop : Cotton\n"
     ]
    }
   ],
   "source": [
    "# Predicting the Test set results  \n",
    "y_pred = classifier.predict(x_test)  \n",
    "LabelData = ['rice','wheat','Mung Bean','Tea','millet','maize','Lentil','Jute','Coffee','Cotton','Ground Nut','Peas',\n",
    "    'Rubber','Sugarcane','Tobacco','Kidney Beans','Moth Beans','Coconut','Black gram','Adzuki Beans','Pigeon Peas'\n",
    "    'Chickpea','banana','grapes','apple','mango','muskmelon','orange','papaya','pomegranate','watermelon']\n",
    "\n",
    "x = int(y_pred[0])\n",
    "print(\"Predicted Crop : \"+LabelData[x])"
   ]
  },
  {
   "cell_type": "code",
   "execution_count": 12,
   "metadata": {},
   "outputs": [
    {
     "name": "stdout",
     "output_type": "stream",
     "text": [
      "0.5849462365591398\n",
      "0.6051612903225806\n"
     ]
    }
   ],
   "source": [
    "print(classifier.score(x_train, y_train))\n",
    "print(classifier.score(x_test, y_test))"
   ]
  }
 ],
 "metadata": {
  "kernelspec": {
   "display_name": "Python 3",
   "language": "python",
   "name": "python3"
  },
  "language_info": {
   "codemirror_mode": {
    "name": "ipython",
    "version": 3
   },
   "file_extension": ".py",
   "mimetype": "text/x-python",
   "name": "python",
   "nbconvert_exporter": "python",
   "pygments_lexer": "ipython3",
   "version": "3.8.5"
  }
 },
 "nbformat": 4,
 "nbformat_minor": 4
}
