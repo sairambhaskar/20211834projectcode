{
 "cells": [
  {
   "cell_type": "markdown",
   "metadata": {},
   "source": [
    "<h1>Crop Prediction ML using Linear Regression</h1>"
   ]
  },
  {
   "cell_type": "code",
   "execution_count": 73,
   "metadata": {},
   "outputs": [],
   "source": [
    "#Import Librbries\n",
    "import pandas as pd\n",
    "import numpy as np\n",
    "from sklearn.linear_model import LinearRegression\n",
    "from sklearn import metrics\n"
   ]
  },
  {
   "cell_type": "code",
   "execution_count": 74,
   "metadata": {},
   "outputs": [],
   "source": [
    "df=pd.read_csv('Dataset.csv')\n",
    "temp = df['temperature'].tolist()\n",
    "humidity = df['humidity'].tolist()\n",
    "ph = df['ph'].tolist()\n",
    "rainfall = df['rainfall'].tolist()\n",
    "TempData = df['label'].tolist()\n",
    "\n",
    "x=[]\n",
    "for i in range(0,int(len(temp))):\n",
    "    tp = [temp[i],humidity[i],ph[i],rainfall[i]]\n",
    "    x.append(tp)\n",
    "#print(len(x))"
   ]
  },
  {
   "cell_type": "code",
   "execution_count": 75,
   "metadata": {},
   "outputs": [
    {
     "name": "stdout",
     "output_type": "stream",
     "text": [
      "31\n"
     ]
    }
   ],
   "source": [
    "#LabelData = ['rice','wheat','Mung Bean','Tea','millet','maize','Lentil','Jute','Coffee','Cotton','Ground Nut','Peas',\n",
    "#    'Rubber','Sugarcane','Tobacco','Kidney Beans','Moth Beans','Coconut','Black gram','Adzuki Beans','Pigeon Peas'\n",
    "#    'Chickpea','banana','grapes','apple','mango','muskmelon','orange','papaya','pomegranate','watermelon']\n",
    "\n",
    "LabelData = []\n",
    "for i in TempData:\n",
    "    if i not in LabelData:\n",
    "        LabelData.append(i)\n",
    "print(len(LabelData))        \n",
    "y = []\n",
    "for i in TempData:\n",
    "    if i == LabelData[0]:\n",
    "        y.append(0)\n",
    "    elif i == LabelData[1]:\n",
    "        y.append(1)\n",
    "    elif i == LabelData[2]:\n",
    "        y.append(2)\n",
    "    elif i == LabelData[3]:\n",
    "        y.append(3)\n",
    "    elif i == LabelData[4]:\n",
    "        y.append(4)\n",
    "    elif i == LabelData[5]:\n",
    "        y.append(5)\n",
    "    elif i == LabelData[6]:\n",
    "        y.append(6)\n",
    "    elif i == LabelData[7]:\n",
    "        y.append(7)\n",
    "    elif i == LabelData[8]:\n",
    "        y.append(8)\n",
    "    elif i == LabelData[9]:\n",
    "        y.append(9)\n",
    "    elif i == LabelData[10]:\n",
    "        y.append(10)\n",
    "    elif i == LabelData[11]:\n",
    "        y.append(11)\n",
    "    elif i == LabelData[12]:\n",
    "        y.append(12)\n",
    "    elif i == LabelData[13]:\n",
    "        y.append(13)\n",
    "    elif i == LabelData[14]:\n",
    "        y.append(14)\n",
    "    elif i == LabelData[15]:\n",
    "        y.append(15)\n",
    "    elif i == LabelData[16]:\n",
    "        y.append(16)\n",
    "    elif i == LabelData[17]:\n",
    "        y.append(17)\n",
    "    elif i == LabelData[18]:\n",
    "        y.append(18)\n",
    "    elif i == LabelData[19]:\n",
    "        y.append(19)\n",
    "    elif i == LabelData[20]:\n",
    "        y.append(20)\n",
    "    elif i == LabelData[21]:\n",
    "        y.append(21)\n",
    "    elif i == LabelData[22]:\n",
    "        y.append(22)\n",
    "    elif i == LabelData[23]:\n",
    "        y.append(23)\n",
    "    elif i == LabelData[24]:\n",
    "        y.append(24)\n",
    "    elif i == LabelData[25]:\n",
    "        y.append(25)\n",
    "    elif i == LabelData[26]:\n",
    "        y.append(26)\n",
    "    elif i == LabelData[27]:\n",
    "        y.append(27)\n",
    "    elif i == LabelData[28]:\n",
    "        y.append(28)\n",
    "    elif i == LabelData[29]:\n",
    "        y.append(29)\n",
    "    else:\n",
    "        y.append(30)  "
   ]
  },
  {
   "cell_type": "code",
   "execution_count": 76,
   "metadata": {},
   "outputs": [],
   "source": [
    "#Create and Train Model\n",
    "model = LinearRegression().fit(x, y)"
   ]
  },
  {
   "cell_type": "code",
   "execution_count": 82,
   "metadata": {},
   "outputs": [
    {
     "name": "stdout",
     "output_type": "stream",
     "text": [
      "0.15474504150144963\n",
      "Accuracy of the model is: 67.62\n"
     ]
    }
   ],
   "source": [
    "from sklearn.metrics import accuracy_score\n",
    "r_sq = model.score(x, y)\n",
    "print(model.score(x, y))\n",
    "\n",
    "print(\"Accuracy of the model is: %.2f\" % np.mean((model.predict(x) - y) ** 2))\n",
    "#a=accuracy_score()\n",
    "#print(\"The accuracy of this model is: \", a*100)\n",
    "#metrics.accuracy_score(test_y, linear_predicted_rating)\n",
    "#print(r_sq)"
   ]
  },
  {
   "cell_type": "code",
   "execution_count": 78,
   "metadata": {},
   "outputs": [
    {
     "name": "stdout",
     "output_type": "stream",
     "text": [
      "coefficient of determination: 0.15474504150144963\n",
      "intercept: 16.277091756821044\n",
      "slope: [ 0.01397305  0.12491452 -0.83875344 -0.04136492]\n"
     ]
    }
   ],
   "source": [
    "print('coefficient of determination:', r_sq)\n",
    "print('intercept:', model.intercept_)\n",
    "print('slope:', model.coef_)"
   ]
  },
  {
   "cell_type": "code",
   "execution_count": 69,
   "metadata": {},
   "outputs": [],
   "source": [
    "#Test Data\n",
    "X_Test = [[20, 35, 10, 250]]"
   ]
  },
  {
   "cell_type": "code",
   "execution_count": 70,
   "metadata": {},
   "outputs": [],
   "source": [
    "y_pred = model.predict(X_Test)\n",
    "#print('predicted response:', y_pred, sep='\\n')"
   ]
  },
  {
   "cell_type": "code",
   "execution_count": 71,
   "metadata": {},
   "outputs": [
    {
     "name": "stdout",
     "output_type": "stream",
     "text": [
      "Predicted Crop : Mung Bean\n"
     ]
    }
   ],
   "source": [
    "LabelData = ['rice','wheat','Mung Bean','Tea','millet','maize','Lentil','Jute','Coffee','Cotton','Ground Nut','Peas',\n",
    "    'Rubber','Sugarcane','Tobacco','Kidney Beans','Moth Beans','Coconut','Black gram','Adzuki Beans','Pigeon Peas'\n",
    "    'Chickpea','banana','grapes','apple','mango','muskmelon','orange','papaya','pomegranate','watermelon']\n",
    "\n",
    "x = int(y_pred[0])\n",
    "print(\"Predicted Crop : \"+LabelData[x])"
   ]
  },
  {
   "cell_type": "code",
   "execution_count": 72,
   "metadata": {},
   "outputs": [
    {
     "ename": "NameError",
     "evalue": "name 'Y_Test' is not defined",
     "output_type": "error",
     "traceback": [
      "\u001b[1;31m---------------------------------------------------------------------------\u001b[0m",
      "\u001b[1;31mNameError\u001b[0m                                 Traceback (most recent call last)",
      "\u001b[1;32m<ipython-input-72-f0c305756fa6>\u001b[0m in \u001b[0;36m<module>\u001b[1;34m\u001b[0m\n\u001b[0;32m      1\u001b[0m \u001b[1;32mfrom\u001b[0m \u001b[0msklearn\u001b[0m\u001b[1;33m.\u001b[0m\u001b[0mmetrics\u001b[0m \u001b[1;32mimport\u001b[0m \u001b[0mr2_score\u001b[0m\u001b[1;33m\u001b[0m\u001b[1;33m\u001b[0m\u001b[0m\n\u001b[1;32m----> 2\u001b[1;33m \u001b[0mr2_score\u001b[0m\u001b[1;33m(\u001b[0m\u001b[0mY_Test\u001b[0m\u001b[1;33m,\u001b[0m \u001b[0mlinear_predicted_rating\u001b[0m\u001b[1;33m)\u001b[0m\u001b[1;33m\u001b[0m\u001b[1;33m\u001b[0m\u001b[0m\n\u001b[0m",
      "\u001b[1;31mNameError\u001b[0m: name 'Y_Test' is not defined"
     ]
    }
   ],
   "source": [
    "\n"
   ]
  },
  {
   "cell_type": "code",
   "execution_count": null,
   "metadata": {},
   "outputs": [],
   "source": []
  }
 ],
 "metadata": {
  "kernelspec": {
   "display_name": "Python 3",
   "language": "python",
   "name": "python3"
  },
  "language_info": {
   "codemirror_mode": {
    "name": "ipython",
    "version": 3
   },
   "file_extension": ".py",
   "mimetype": "text/x-python",
   "name": "python",
   "nbconvert_exporter": "python",
   "pygments_lexer": "ipython3",
   "version": "3.8.5"
  }
 },
 "nbformat": 4,
 "nbformat_minor": 4
}
